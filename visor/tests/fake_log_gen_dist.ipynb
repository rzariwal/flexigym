{
 "cells": [
  {
   "cell_type": "code",
   "execution_count": 42,
   "metadata": {
    "collapsed": false
   },
   "outputs": [],
   "source": [
    "import matplotlib.pyplot as plt\n",
    "import numpy as np\n",
    "%matplotlib inline"
   ]
  },
  {
   "cell_type": "code",
   "execution_count": 8,
   "metadata": {
    "collapsed": false
   },
   "outputs": [],
   "source": [
    "with open(\"fake_access_log_dist.log\") as logfile:\n",
    "    lines = logfile.readlines()"
   ]
  },
  {
   "cell_type": "code",
   "execution_count": 10,
   "metadata": {
    "collapsed": false
   },
   "outputs": [
    {
     "name": "stdout",
     "output_type": "stream",
     "text": [
      "['206.195.175.205 - Galvin [30/Dec/2016:14:25:20 -0700] \"GET /list HTTP/2.0\" 200 6894\\n', '89.110.214.223 - Galvin [30/Dec/2016:14:25:22 -0700] \"POST /doc/readme.txt HTTP/2.0\" 200 7144\\n', '93.134.171.142 - Chapman [30/Dec/2016:14:25:24 -0700] \"GET /doc/charge.txt HTTP/2.0\" 301 4026\\n', '51.80.20.151 - Bud [30/Dec/2016:14:25:26 -0700] \"DELETE /app/main HTTP/2.0\" 301 6266\\n', '160.150.239.21 - Alden [30/Dec/2016:14:25:28 -0700] \"GET /doc/readme.txt HTTP/2.0\" 200 9955\\n']\n",
      "['206.195.175.205', '-', 'Galvin', '[30/Dec/2016:14:25:20', '-0700]', '\"GET', '/list', 'HTTP/2.0\"', '200', '6894']\n"
     ]
    }
   ],
   "source": [
    "print(lines[:5])\n",
    "print(lines[0].split())"
   ]
  },
  {
   "cell_type": "code",
   "execution_count": 36,
   "metadata": {
    "collapsed": false
   },
   "outputs": [
    {
     "name": "stdout",
     "output_type": "stream",
     "text": [
      "{'PUT': 9, 'DELETE': 15, 'POST': 25, 'GET': 74}\n"
     ]
    }
   ],
   "source": [
    "methods = {}\n",
    "\n",
    "for line in lines:\n",
    "    method = line.split()[5]\n",
    "    method = method.strip(\"'\")\n",
    "    method = method.strip('\"')\n",
    "    if method not in methods:\n",
    "        methods[method] = 1\n",
    "    else:\n",
    "        methods[method] += 1\n",
    "        \n",
    "print(methods)"
   ]
  },
  {
   "cell_type": "code",
   "execution_count": 51,
   "metadata": {
    "collapsed": false
   },
   "outputs": [
    {
     "name": "stdout",
     "output_type": "stream",
     "text": [
      "[0, 1, 2, 3]\n",
      "[0.07317073170731707, 0.12195121951219512, 0.2032520325203252, 0.6016260162601627]\n"
     ]
    },
    {
     "data": {
      "text/plain": [
       "<Container object of 4 artists>"
      ]
     },
     "execution_count": 51,
     "metadata": {},
     "output_type": "execute_result"
    },
    {
     "data": {
      "image/png": "[encoded data removed]",
      "text/plain": [
       "<matplotlib.figure.Figure at 0x7fca27686198>"
      ]
     },
     "metadata": {},
     "output_type": "display_data"
    }
   ],
   "source": [
    "x = [i for i in range(len(methods))]\n",
    "y = list(methods.values())\n",
    "y_sum = sum(y)\n",
    "y = [float(i/y_sum) for i in y]\n",
    "    \n",
    "\n",
    "print(x)\n",
    "print(y)\n",
    "\n",
    "plt.xticks(x, list(methods.keys()))\n",
    "plt.title('Methods Distribution')\n",
    "plt.bar(x, y, align='center', alpha=0.5) "
   ]
  }
 ],
 "metadata": {
  "anaconda-cloud": {},
  "kernelspec": {
   "display_name": "Python [Root]",
   "language": "python",
   "name": "Python [Root]"
  },
  "language_info": {
   "codemirror_mode": {
    "name": "ipython",
    "version": 3
   },
   "file_extension": ".py",
   "mimetype": "text/x-python",
   "name": "python",
   "nbconvert_exporter": "python",
   "pygments_lexer": "ipython3",
   "version": "3.5.2"
  }
 },
 "nbformat": 4,
 "nbformat_minor": 0
}
